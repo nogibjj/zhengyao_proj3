{
 "cells": [
  {
   "cell_type": "code",
   "execution_count": 10,
   "metadata": {},
   "outputs": [],
   "source": [
    "import pandas\n",
    "import csv, sqlite3\n",
    "import sys"
   ]
  },
  {
   "cell_type": "code",
   "execution_count": 11,
   "metadata": {},
   "outputs": [],
   "source": [
    "# Connect to DB and create a cursor\n",
    "\n",
    "sqliteConnection = sqlite3.connect(\"netflix.db\")\n",
    "cursor = sqliteConnection.cursor()"
   ]
  },
  {
   "cell_type": "code",
   "execution_count": 12,
   "metadata": {},
   "outputs": [
    {
     "data": {
      "text/plain": [
       "8790"
      ]
     },
     "execution_count": 12,
     "metadata": {},
     "output_type": "execute_result"
    }
   ],
   "source": [
    "# create database/table\n",
    "\n",
    "db = pandas.read_csv('netflix1.csv')\n",
    "db.to_sql('netflix', sqliteConnection, if_exists='append', index=False) "
   ]
  },
  {
   "cell_type": "code",
   "execution_count": 13,
   "metadata": {},
   "outputs": [
    {
     "name": "stdout",
     "output_type": "stream",
     "text": [
      "['show_id', 'type', 'title', 'director', 'country', 'date_added', 'release_year', 'rating', 'duration', 'listed_in']\n"
     ]
    }
   ],
   "source": [
    "# display all attributes (all columns)\n",
    "\n",
    "cursor.execute(\"select * from netflix\")\n",
    "attributes = [tuple[0] for tuple in cursor.description]\n",
    "print (attributes)"
   ]
  },
  {
   "cell_type": "code",
   "execution_count": 14,
   "metadata": {},
   "outputs": [
    {
     "name": "stdout",
     "output_type": "stream",
     "text": [
      "{('TV Show',), ('Movie',)}\n"
     ]
    }
   ],
   "source": [
    "# show all types of works\n",
    "\n",
    "cursor.execute('select type from netflix')\n",
    "types = cursor.fetchall()\n",
    "S = set()\n",
    "for type in types:\n",
    "    S.add(type)\n",
    "print(S)\n"
   ]
  },
  {
   "cell_type": "code",
   "execution_count": 15,
   "metadata": {},
   "outputs": [
    {
     "name": "stdout",
     "output_type": "stream",
     "text": [
      "('Motu Patlu in the Game of Zones',)\n",
      "('Motu Patlu in Wonderland',)\n",
      "('Motu Patlu: Deep Sea Adventure',)\n",
      "('Motu Patlu: Mission Moon',)\n",
      "(\"Motu Patlu in Dragon's World\",)\n",
      "('Motu Patlu Dino Invasion',)\n",
      "('Motu Patlu in Octupus World',)\n",
      "('Motu Patlu VS Robo Kids',)\n",
      "('Motu Patlu in Hong Kong: Kung Fu Kings 3',)\n",
      "('Motu Patlu in the City of Gold',)\n",
      "('Motu Patlu Kung Fu Kings 4 The Challenge of Kung Fu Brothers',)\n",
      "('Motu Patlu the Superheroes – Super Villains from Mars',)\n",
      "('Shiva VS Autobots',)\n",
      "('Shiva: Journey to Plunotaria',)\n",
      "('Shiva: The Secret World Of Vedas City',)\n",
      "('Motu Patlu: King of Kings',)\n"
     ]
    }
   ],
   "source": [
    "# show all movies directed by Suhas Kadav\n",
    "\n",
    "cursor.execute('select title from netflix where type = \\'Movie\\' and director = \\'Suhas Kadav\\'')\n",
    "movies = cursor.fetchall()\n",
    "for movie in movies:\n",
    "    print(movie)"
   ]
  },
  {
   "cell_type": "code",
   "execution_count": 16,
   "metadata": {},
   "outputs": [
    {
     "name": "stdout",
     "output_type": "stream",
     "text": [
      "('Motu Patlu in the Game of Zones',)\n",
      "('Motu Patlu VS Robo Kids',)\n",
      "('Motu Patlu the Superheroes – Super Villains from Mars',)\n",
      "('Shiva: Journey to Plunotaria',)\n"
     ]
    }
   ],
   "source": [
    "# show all movies directed by Suhas Kadav after 2018\n",
    "\n",
    "cursor.execute('select title from netflix where type = \\'Movie\\' and director = \\'Suhas Kadav\\' and release_year>2018')\n",
    "movies = cursor.fetchall()\n",
    "for movie in movies:\n",
    "    print(movie)"
   ]
  },
  {
   "cell_type": "code",
   "execution_count": 17,
   "metadata": {},
   "outputs": [
    {
     "name": "stdout",
     "output_type": "stream",
     "text": [
      "('Motu Patlu Dino Invasion', 2018)\n",
      "('Motu Patlu in the City of Gold', 2018)\n",
      "('Motu Patlu Kung Fu Kings 4 The Challenge of Kung Fu Brothers', 2018)\n",
      "('Shiva VS Autobots', 2018)\n",
      "('Motu Patlu in the Game of Zones', 2019)\n",
      "('Motu Patlu VS Robo Kids', 2019)\n",
      "('Motu Patlu the Superheroes – Super Villains from Mars', 2019)\n",
      "('Shiva: Journey to Plunotaria', 2019)\n"
     ]
    }
   ],
   "source": [
    "# show all movies directed by Suhas Kadav after 2017 in the ascending order sorted by release year\n",
    "\n",
    "cursor.execute('select title, release_year from netflix where type = \\'Movie\\' and director = \\'Suhas Kadav\\' and release_year>2017 order by release_year ASC')\n",
    "movies = cursor.fetchall()\n",
    "for movie in movies:\n",
    "    print(movie)"
   ]
  },
  {
   "cell_type": "code",
   "execution_count": 18,
   "metadata": {},
   "outputs": [
    {
     "name": "stdout",
     "output_type": "stream",
     "text": [
      "('Scissor Seven', 'China')\n",
      "('The Daily Life of the Immortal King', 'China')\n",
      "(\"Heaven Official's Blessing\", 'China')\n",
      "('Flavorful Origins', 'China')\n",
      "('Well-Intended Love', 'China')\n",
      "('Handsome Siblings', 'China')\n"
     ]
    }
   ],
   "source": [
    "# show all TV shows in China after 2019\n",
    "\n",
    "cursor.execute('select title, country from netflix where type = \\'TV Show\\' and country = \\'China\\' and release_year>2019')\n",
    "shows = cursor.fetchall()\n",
    "for show in shows:\n",
    "    print(show)"
   ]
  },
  {
   "cell_type": "code",
   "execution_count": 22,
   "metadata": {},
   "outputs": [
    {
     "name": "stdout",
     "output_type": "stream",
     "text": [
      "('Brazil',)\n"
     ]
    }
   ],
   "source": [
    "# customized query of a certain attribute of your specified movies\n",
    "\n",
    "attribute = input(\"Type one attribute, you can choose: 'director', 'country', 'date_added', 'release_year', 'rating', 'duration'\")\n",
    "movies = input(\"Type the movie you want to query\")\n",
    "\n",
    "cursor.execute('select %s from netflix where title = \\'%s\\''%(attribute, movies))\n",
    "res = cursor.fetchall()\n",
    "for r in res:\n",
    "    print(r)"
   ]
  }
 ],
 "metadata": {
  "kernelspec": {
   "display_name": "Python 3.10.4 64-bit",
   "language": "python",
   "name": "python3"
  },
  "language_info": {
   "codemirror_mode": {
    "name": "ipython",
    "version": 3
   },
   "file_extension": ".py",
   "mimetype": "text/x-python",
   "name": "python",
   "nbconvert_exporter": "python",
   "pygments_lexer": "ipython3",
   "version": "3.10.4"
  },
  "orig_nbformat": 4,
  "vscode": {
   "interpreter": {
    "hash": "3ad933181bd8a04b432d3370b9dc3b0662ad032c4dfaa4e4f1596c548f763858"
   }
  }
 },
 "nbformat": 4,
 "nbformat_minor": 2
}
